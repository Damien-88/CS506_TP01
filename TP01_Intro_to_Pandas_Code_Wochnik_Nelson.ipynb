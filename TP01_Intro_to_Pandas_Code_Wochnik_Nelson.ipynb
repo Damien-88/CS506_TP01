{
  "cells": [
    {
      "cell_type": "markdown",
      "metadata": {
        "id": "rHLcriKWLRe4"
      },
      "source": [
        "## Intro to Pandas"
      ]
    },
    {
      "cell_type": "markdown",
      "metadata": {},
      "source": [
        "Learning Objectives:"
      ]
    },
    {
      "cell_type": "markdown",
      "metadata": {
        "id": "QvJBqX8_Bctk"
      },
      "source": [
        "  Set up environment with appropraite packages and libraries.\n",
        "\n",
        "  Obtain a basic understanding of Pandas Data Structure: Series and DataFrames.\n",
        "\n",
        "  Read from CSV files.\n",
        "\n",
        "  Access and manipulate data.\n",
        "\n",
        "  Create and manipulate visualizations for data using Pandas, Matplotlib, and Seaborn.\n",
        "\n",
        "  Gain an overview of Supervised and Unsupervised Learning Models.\n",
        "  \n",
        "  Gain an understanding of Gaussian Models and Model Selection."
      ]
    },
    {
      "cell_type": "markdown",
      "metadata": {},
      "source": [
        "What is Pandas:"
      ]
    },
    {
      "cell_type": "markdown",
      "metadata": {
        "id": "TIFJ83ZTBctl"
      },
      "source": [
        "Pandas is an open-source Python library created for data visualtion and analysis. Pandas allows the user to accumulate, view, manipulate, and filter data to suit their needs. It utilizes NumPy as its foundation (it is an extension of Numpy). It has many uses, such as: data cleaning, data analysis, data tranformation, and machine learning."
      ]
    },
    {
      "cell_type": "markdown",
      "metadata": {
        "id": "s_JOISVgmn9v"
      },
      "source": [
        "## Environment Setup (Jupyter Notebook VS Extension)"
      ]
    },
    {
      "cell_type": "markdown",
      "metadata": {},
      "source": [
        "Package Installation:"
      ]
    },
    {
      "cell_type": "code",
      "execution_count": null,
      "metadata": {
        "id": "aSRYu62xUi3g"
      },
      "outputs": [],
      "source": [
        "# In the terminal enter the following\n",
        "pip install pandas # Installs Pandas and Numpy\n",
        "pip install matplotlib # Installs Matplotlib\n",
        "pip install seaborn # Installs Seaborn"
      ]
    },
    {
      "cell_type": "markdown",
      "metadata": {},
      "source": [
        "Import Libraries:"
      ]
    },
    {
      "cell_type": "code",
      "execution_count": null,
      "metadata": {},
      "outputs": [],
      "source": [
        "import numpy as np # Imports numpy with alias \"np\"\n",
        "import pandas as pd # Imports pandas with alias \"pd\"\n",
        "import matplotlib.pyplot as plt # Imports Matplotlib with alias \"plt\"\n",
        "import seaborn as sns # Imports Seaborn with alias \"sns\""
      ]
    },
    {
      "cell_type": "markdown",
      "metadata": {
        "id": "daQreKXIUslr"
      },
      "source": [
        "## Core Data Structures"
      ]
    },
    {
      "cell_type": "markdown",
      "metadata": {},
      "source": [
        "The Core Data Structures in Pandas are Series Objects and Data Frames.\n",
        "\n",
        "A Series is a data structure created from one dimensional array with an index number for each value.\n",
        "\n",
        "A DataFrame is a data structure created from two dimensional arrays of dictionaries with labeled axes. They are labeled using keys and numbered based on index.\n",
        "\n",
        "You can create your own of each."
      ]
    },
    {
      "cell_type": "markdown",
      "metadata": {
        "id": "fjnAk1xcU0yc"
      },
      "source": [
        "Series Object:"
      ]
    },
    {
      "cell_type": "code",
      "execution_count": null,
      "metadata": {
        "id": "DFZ42Uq7UFDj"
      },
      "outputs": [],
      "source": [
        "pd.Series([\"Dogs\", \"Cats\", \"Lions\", \"Tigers\", \"Bears\"])"
      ]
    },
    {
      "cell_type": "markdown",
      "metadata": {
        "id": "U5ouUp1cU6pC"
      },
      "source": [
        "DataFrame:"
      ]
    },
    {
      "cell_type": "code",
      "execution_count": null,
      "metadata": {
        "id": "avgr6GfiUh8t"
      },
      "outputs": [],
      "source": [
        "species = pd.Series([\"Dogs\", \"Cats\", \"Lions\", \"Tigers\", \"Bears\"])\n",
        "area_pop = pd.Series([1234, 4598, 7, 3, 99])\n",
        "\n",
        "pd.DataFrame({ \"Species\": species, \"Population\": area_pop })"
      ]
    },
    {
      "cell_type": "markdown",
      "metadata": {
        "id": "oa5wfZT7VHJl"
      },
      "source": [
        "## Using Data from Files"
      ]
    },
    {
      "cell_type": "markdown",
      "metadata": {},
      "source": [
        "Data Frames are usually created from existing data. Such as CSV files."
      ]
    },
    {
      "cell_type": "markdown",
      "metadata": {},
      "source": [
        "Read CSV:"
      ]
    },
    {
      "cell_type": "code",
      "execution_count": null,
      "metadata": {
        "id": "av6RYOraVG1V"
      },
      "outputs": [],
      "source": [
        "imdb_dataframe = pd.read_csv(\"./imdb_top_250.csv\") # Import data from CSV to DataFrame\n",
        "imdb_dataframe.describe() # Output Statistics"
      ]
    },
    {
      "cell_type": "markdown",
      "metadata": {},
      "source": [
        "Popular methods"
      ]
    },
    {
      "cell_type": "code",
      "execution_count": null,
      "metadata": {},
      "outputs": [],
      "source": [
        "imdb_dataframe.info() # Ouput summary of Dataframe\n",
        "imdb_dataframe.columns # Ouput column names"
      ]
    },
    {
      "cell_type": "markdown",
      "metadata": {
        "id": "XtYZ7114n3b-"
      },
      "source": [
        "## Data Manipulation"
      ]
    },
    {
      "cell_type": "markdown",
      "metadata": {},
      "source": [
        "Data can be accessed by column name, index or a range of indices. \n",
        "\n",
        "Data output can be manipulated or filtered by using ranges or formulas."
      ]
    },
    {
      "cell_type": "markdown",
      "metadata": {
        "id": "_TFm7-looBFF"
      },
      "source": [
        "Accessing:"
      ]
    },
    {
      "cell_type": "code",
      "execution_count": null,
      "metadata": {},
      "outputs": [],
      "source": [
        "print(imdb_dataframe[\"Title\"], \"\\n\") # Ouput title column\n",
        "print(imdb_dataframe.loc[0], \"\\n\") # Select first row\n",
        "print(imdb_dataframe.iloc[0:2], \"\\n\") # Select first two rows\n",
        "print(imdb_dataframe[\"Title\"][124], \"\\n\") # Select 125th title\n",
        "print(imdb_dataframe[\"Title\"][20:30]) # Select titles with indexes in the 20s\n",
        "\n"
      ]
    },
    {
      "cell_type": "markdown",
      "metadata": {
        "id": "RM1iaD-ka3Y1"
      },
      "source": [
        "Manipulating:"
      ]
    },
    {
      "cell_type": "code",
      "execution_count": null,
      "metadata": {
        "id": "XWmyCFJ5bOv-"
      },
      "outputs": [],
      "source": [
        "imdb_dataframe[imdb_dataframe[\"Rank\"] >= 25] # Ouput top 25 movies\n",
        "imdb_dataframe[imdb_dataframe[\"Title\"].str[0].between(\"M\", \"U\")] # Ouput movies with title between M and U"
      ]
    },
    {
      "cell_type": "markdown",
      "metadata": {},
      "source": [
        "Add and Remove:"
      ]
    },
    {
      "cell_type": "code",
      "execution_count": null,
      "metadata": {},
      "outputs": [],
      "source": [
        "pd_companies = [(\"Paramount\" * 100), (\"Disney\" * 100), (\"Sony\" * 50)] # Create new column\n",
        "imdb_dataframe[\"Production Company\"] = pd_companies # Add column\n",
        "imdb_dataframe.drop(\"Production Company\", axis = 1, inplace = True) # Remove Column"
      ]
    },
    {
      "cell_type": "markdown",
      "metadata": {},
      "source": [
        "Handeling missing data:"
      ]
    },
    {
      "cell_type": "code",
      "execution_count": null,
      "metadata": {},
      "outputs": [],
      "source": [
        "imdb_dataframe.fillna(0, inplace = True) # Put a 0 in areas with missing data\n",
        "imdb_dataframe.dropna(inplace = True) # Remove results with missing data"
      ]
    },
    {
      "cell_type": "markdown",
      "metadata": {
        "id": "TQzIVnbnmWGM"
      },
      "source": [
        "## Data Visualization"
      ]
    },
    {
      "cell_type": "markdown",
      "metadata": {},
      "source": [
        "Data can be visualized using Pandas Plots, Matplotlib, and Seaborn.\n",
        "\n",
        "There are various chart types that can be used based on the data type and desired message.\n",
        "\n",
        "Some of the most used charts are: Bar Charts, Line Charts, Scatter Plots, and Pie Charts."
      ]
    },
    {
      "cell_type": "markdown",
      "metadata": {},
      "source": [
        "Pandas Plotting:"
      ]
    },
    {
      "cell_type": "code",
      "execution_count": null,
      "metadata": {
        "id": "ko6pLK6JmkYP"
      },
      "outputs": [],
      "source": [
        "import pandas as pd\n",
        "\n",
        "new_df = imdb_dataframe[[\"Title\", \"Rating\"]].copy() # Create dataframe with columns to plot\n",
        "new_df.set_index(\"Title\", inplace = True) # Set index based on title\n",
        "imdb_dataframe[\"Rating\"].plot(kind = \"bar\", title = \"IMDb Ratings\", label = \"Rating\", xlabel = \"Title\") # Plot data"
      ]
    },
    {
      "cell_type": "markdown",
      "metadata": {
        "id": "xmxFuQmurr6d"
      },
      "source": [
        "Matplotlib:"
      ]
    },
    {
      "cell_type": "code",
      "execution_count": null,
      "metadata": {
        "id": "Fc1DvPAbstjI"
      },
      "outputs": [],
      "source": [
        "import pandas as pd\n",
        "import matplotlib.pyplot as plt\n",
        "# Scatter plot comparing correlation between year and rank of films\n",
        "plt.figure(figsize = (10, 6)) # Set size of chart\n",
        "plt.scatter(imdb_dataframe[\"Year\"], imdb_dataframe[\"Rank\"], color = \"red\", edgecolor = \"black\") # Plot data\n",
        "plt.title(\"Rank vs Year\", fontsize = 24) # Chart name\n",
        "plt.xlabel(\"Year\") # X axis label\n",
        "plt.ylabel(\"Rank\") # Y axis label\n",
        "plt.show() # Output chart"
      ]
    },
    {
      "cell_type": "markdown",
      "metadata": {
        "id": "ZeYYLoV9b9fB"
      },
      "source": [
        "Seaborn:"
      ]
    },
    {
      "cell_type": "code",
      "execution_count": null,
      "metadata": {
        "id": "0gCEX99Hb8LR"
      },
      "outputs": [],
      "source": [
        "import pandas as ps\n",
        "import matplotlib.pyplot as plt\n",
        "import seaborn as sns\n",
        "# Create the line plot\n",
        "plt.figure(figsize=(10, 6))# Set size of chart\n",
        "sns.lineplot(data = imdb_dataframe, x = 'Year', y = 'Rating', marker = 'o', color = 'orange') # Plot data\n",
        "plt.title('Ratings Over Time') # Chart name\n",
        "plt.xlabel(\"Year\") # X axis label\n",
        "plt.ylabel(\"Rating\") # Y axis label\n",
        "plt.show() # Ouput chart"
      ]
    },
    {
      "cell_type": "markdown",
      "metadata": {},
      "source": [
        "## Supervised Learning"
      ]
    },
    {
      "cell_type": "markdown",
      "metadata": {},
      "source": [
        "Supervised learning is a way to train machine learning models using labeled databases. Pandas is used for data cleaning and manipulation before feeding it to the machine. Linear regression and decision trees are the main models used in supervised learning."
      ]
    },
    {
      "cell_type": "markdown",
      "metadata": {},
      "source": [
        "Linear Regression:"
      ]
    },
    {
      "cell_type": "code",
      "execution_count": null,
      "metadata": {},
      "outputs": [],
      "source": [
        "import pandas as pd\n",
        "from sklearn.linear_model import LinearRegression\n",
        "\n",
        "costs = {\n",
        "    \"Monthly Salary\": [3000, 4000, 5000, 6000, 7000],\n",
        "    \"Money Spent\": [1500, 2000, 2500, 3000, 3500]\n",
        "} # Data\n",
        "cost_df = pd.DataFrame(costs) # Create DataFrame\n",
        "x = cost_df[[\"Monthly Salary\"]]  # Predictor\n",
        "y = cost_df[\"Money Spent\"]       # Target\n",
        "model = LinearRegression() # Train Model\n",
        "model.fit(x, y) # Relate\n",
        "prediction = model.predict([[5500]]) # Predict costs on $5500 salary\n",
        "print(f\"Predicted money spent for $5500 salary: ${prediction[0]:.2f}\")"
      ]
    },
    {
      "cell_type": "markdown",
      "metadata": {},
      "source": [
        "Decision Tree:"
      ]
    },
    {
      "cell_type": "code",
      "execution_count": null,
      "metadata": {},
      "outputs": [],
      "source": [
        "import pandas as pd\n",
        "from sklearn.tree import DecisionTreeClassifier\n",
        "\n",
        "movies = {\n",
        "    \"Budget\": [50, 80, 150, 200],\n",
        "    \"Rating\": [6.5, 7.0, 8.0, 8.5],\n",
        "    \"Genre\": [\"Comedy\", \"Comedy\", \"Action\", \"Action\"]\n",
        "}\n",
        "df = pd.DataFrame(movies) # Create DataFrame\n",
        "\n",
        "x = df[[\"Budget\", \"Rating\"]] # Features (predictors)\n",
        "y = df[\"Genre\"]              # Target (what to predict)\n",
        "\n",
        "tree = DecisionTreeClassifier() # Create Decision Tree model\n",
        "tree.fit(x, y) # Train the model on the data\n",
        "\n",
        "prediction = tree.predict([[100, 7.5]]) # Predict genre for new movie\n",
        "print(f\"Predicted Genre: {prediction[0]}\") # Output the prediction"
      ]
    },
    {
      "cell_type": "markdown",
      "metadata": {},
      "source": [
        "## Unsupervised Learning"
      ]
    },
    {
      "cell_type": "markdown",
      "metadata": {},
      "source": [
        "Unsupervised learning is a way to train machine learning models using unlabeled databases. Pandas is used for data cleaning and manipulation before feeding it to the machine. Clustering and dimensionality reduction are the main techniques used in unsupervised learning."
      ]
    },
    {
      "cell_type": "markdown",
      "metadata": {},
      "source": [
        "Clustering (K-Means):"
      ]
    },
    {
      "cell_type": "code",
      "execution_count": null,
      "metadata": {},
      "outputs": [],
      "source": [
        "import pandas as pd\n",
        "from sklearn.cluster import KMeans\n",
        "\n",
        "data = {\n",
        "    \"Monthly Salary\": [3000, 4000, 5000, 7000, 8000],\n",
        "    \"Money Spent\": [1500, 2000, 2500, 3300, 3500]\n",
        "}\n",
        "df = pd.DataFrame(data) # Create DataFrame\n",
        "\n",
        "kmeans = KMeans(n_clusters=2, random_state=0) # Create clustering model\n",
        "df[\"Cluster\"] = kmeans.fit_predict(df) # Fit model and label each row with a cluster\n",
        "print(df) # Output clustered data"
      ]
    },
    {
      "cell_type": "markdown",
      "metadata": {},
      "source": [
        "Dimensionality Reduction:"
      ]
    },
    {
      "cell_type": "code",
      "execution_count": null,
      "metadata": {},
      "outputs": [],
      "source": [
        "import pandas as pd\n",
        "from sklearn.decomposition import PCA\n",
        "\n",
        "data = {\n",
        "    \"Salary\": [3000, 4000, 5000, 6000],\n",
        "    \"Spending\": [1500, 2000, 2500, 3000],\n",
        "    \"Savings\": [500, 800, 1000, 1300]\n",
        "}\n",
        "df = pd.DataFrame(data) # Create DataFrame\n",
        "\n",
        "pca = PCA(n_components=2) # Create PCA model to reduce dimensions to 2\n",
        "reduced = pca.fit_transform(df) # Apply PCA to the data\n",
        "\n",
        "reduced_df = pd.DataFrame(reduced, columns=[\"PC1\", \"PC2\"]) # Convert result to DataFrame\n",
        "print(reduced_df) # Output reduced data"
      ]
    },
    {
      "cell_type": "markdown",
      "metadata": {},
      "source": [
        "## Gaussian Mixture Models"
      ]
    },
    {
      "cell_type": "markdown",
      "metadata": {},
      "source": [
        "Gaussian Mixture Models are a way to group data based on probability distributions in unsupervised learning. Pandas is used for organizing and preparing the data before applying the model. GMM identifies hidden clusters by assuming the data is made up of overlapping Gaussian distributions"
      ]
    },
    {
      "cell_type": "code",
      "execution_count": null,
      "metadata": {},
      "outputs": [],
      "source": [
        "import pandas as pd\n",
        "from sklearn.mixture import GaussianMixture\n",
        "\n",
        "data = {\n",
        "    \"Monthly Salary\": [3000, 4000, 5000, 7000, 8000],\n",
        "    \"Money Spent\": [1500, 2000, 2500, 3300, 3500]\n",
        "}\n",
        "df = pd.DataFrame(data) # Create DataFrame\n",
        "\n",
        "gmm = GaussianMixture(n_components=2, random_state=0) # Create GMM with 2 groups\n",
        "gmm.fit(df) # Fit the model to the data\n",
        "\n",
        "df[\"Group\"] = gmm.predict(df) # Assign each row to a Gaussian group\n",
        "print(df) # Output the grouped data"
      ]
    },
    {
      "cell_type": "markdown",
      "metadata": {},
      "source": [
        "## Model Selection"
      ]
    },
    {
      "cell_type": "markdown",
      "metadata": {},
      "source": [
        "Model selection is a way to choose the best-performing machine learning model for a specific task. Pandas is used to prepare and structure the data before testing different models. Techniques like train-test split and cross-validation help compare models based on accuracy or other metrics."
      ]
    },
    {
      "cell_type": "markdown",
      "metadata": {},
      "source": [
        "References\n",
        "\n",
        "McKinney, W. (2023). Pandas installation guide. Pandas Documentation https://pandas.pydata.org/pandas-docs/stable/getting_started/install.html\n",
        "\n",
        "Hunter, J. D. (2023). Matplotlib installation guide. Matplotlib Documentation. https://matplotlib.org/stable/users/installing.html\n",
        "\n",
        "Waskom, M. L. (2023). Seaborn installation guide. Seaborn Documentation. https://seaborn.pydata.org/installing.html\n",
        "\n",
        "McKinney, W. (2023). Pandas data structures: Series and DataFrames. Pandas Documentation. https://pandas.pydata.org/pandas-docs/stable/dsintro.html\n",
        "\n",
        "McKinney, W. (2023). read_csv() documentation. Pandas Documentation. https://pandas.pydata.org/pandas-docs/stable/reference/api/pandas.read_csv.html\n",
        "\n",
        "McKinney, W. (2023). DataFrame operations. Pandas Documentation. https://pandas.pydata.org/pandas-docs/stable/reference/api/pandas.DataFrame.html\n",
        "\n",
        "McKinney, W. (2023). Accessing data in Pandas. Pandas Documentation. https://pandas.pydata.org/pandas-docs/stable/getting_started/10min.html#accessing-data\n",
        "\n",
        "Hunter, J. D. (2023). Matplotlib documentation. Matplotlib Documentation. https://matplotlib.org/stable/contents.html\n",
        "\n",
        "Hunter, J. D. (2023). Matplotlib gallery. Matplotlib Documentation. https://matplotlib.org/stable/gallery/index.html\n",
        "\n",
        "Waskom, M. L. (2023). Seaborn documentation. Seaborn Documentation. https://seaborn.pydata.org/\n",
        "\n",
        "McKinney, W. (2023). Pandas plotting guide. Pandas Documentation. https://pandas.pydata.org/pandas-docs/stable/reference/api/pandas.DataFrame.plot.html\n",
        "\n",
        "Pedregosa, F., Varoquaux, G., Gramfort, A., Michel, V., Thirion, B., Grisel, O., … Duchesnay, É. (2021). Supervised learning. Scikit-learn Documentation. https://scikit-learn.org/stable/supervised_learning.html\n",
        "\n",
        "Pedregosa, F., Varoquaux, G., Gramfort, A., Michel, V., Thirion, B., Grisel, O., … Duchesnay, É. (2021). Unsupervised learning. Scikit-learn Documentation. https://scikit-learn.org/stable/unsupervised_learning.html\n",
        "\n",
        "Pedregosa, F., Varoquaux, G., Gramfort, A., Michel, V., Thirion, B., Grisel, O., … Duchesnay, É. (2021). Gaussian mixture models (GMM). Scikit-learn Documentation. https://scikit-learn.org/stable/modules/mixture.html#gaussian-mixture\n",
        "\n",
        "Furlan, R. (2020, September 24). A guide to model selection in machine learning. Towards Data Science. https://towardsdatascience.com/a-guide-to-model-selection-in-machine-learning-bbe9b2cba5d7\n"
      ]
    }
  ],
  "metadata": {
    "colab": {
      "collapsed_sections": [
        "JndnmDMp66FL",
        "YHIWvc9Ms-Ll",
        "TJffr5_Jwqvd"
      ],
      "name": "intro_to_pandas.ipynb",
      "provenance": []
    },
    "kernelspec": {
      "display_name": "Python 3",
      "name": "python3"
    },
    "language_info": {
      "codemirror_mode": {
        "name": "ipython",
        "version": 3
      },
      "file_extension": ".py",
      "mimetype": "text/x-python",
      "name": "python",
      "nbconvert_exporter": "python",
      "pygments_lexer": "ipython3",
      "version": "3.13.3"
    }
  },
  "nbformat": 4,
  "nbformat_minor": 0
}
